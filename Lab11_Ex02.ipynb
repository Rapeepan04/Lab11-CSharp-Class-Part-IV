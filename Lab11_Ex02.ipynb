{
 "cells": [
  {
   "cell_type": "markdown",
   "metadata": {
    "dotnet_interactive": {
     "language": "csharp"
    },
    "polyglot_notebook": {
     "kernelName": "csharp"
    }
   },
   "source": [
    "## Lab 11 Constructor"
   ]
  },
  {
   "cell_type": "markdown",
   "metadata": {},
   "source": [
    "## Ex02 การสร้าง constructor อย่างง่าย"
   ]
  },
  {
   "cell_type": "markdown",
   "metadata": {},
   "source": [
    "### 11.02.1 Parameterless constructor"
   ]
  },
  {
   "cell_type": "markdown",
   "metadata": {},
   "source": [
    "คอนสตรักเตอร์ที่เราสร้างเอง (แต่ไม่มีพารามิเตอร์) โดยทั่วไปแล้วจะเรียกว่า \"no-argument constructor\" หรือ \"parameterless constructor\" \n",
    "\n",
    "ถึงแม้ว่ามันจะมีลักษณะคล้ายกับ Default Constructor แต่ก็มีข้อแตกต่างกันตรงที่ Default Constructor นั้นถูกสร้างโดยคอมไพเลอร์ให้เองโดยอัตโนมัติ ในขณะที่ no-argument constructor เป็นคอนสตรักเตอร์ที่เราเขียนขึ้นมาเอง\n",
    "\n",
    "การที่เราสร้างคอนสตรักเตอร์ แสดงว่าต้องมีวัตถุประสงค์บางอย่าง เช่น กำหนดค่าเริ่มต้นให้ข้อมูล หรือจองทรัพยากรจากระบบ ถ้าไม่มีการทำอะไรเป็นกรณีพิเศษ ก็ไม่ต้องสร้างขึ้นเอง ปล่อยให้เป็นหน้าที่ของคอมไพเลอร์ ที่จะสร้างให้โดยอัตโนมัติ"
   ]
  },
  {
   "cell_type": "markdown",
   "metadata": {},
   "source": [
    "### 1. ตัวอย่าง คลาสที่มี property และ default constructor"
   ]
  },
  {
   "cell_type": "markdown",
   "metadata": {},
   "source": [
    "ในคลาสที่มี default constructor อย่างเดียวนั้น เราจะไม่สามารถกำหนดค่าเริ่มต้นให้ field ต่างๆ ได้ \n",
    "\n",
    "ค่าที่เก็บใน field  จะถูกกำหนดค่าเริ่มต้นให้โดยคอมไพเลอร์\n"
   ]
  },
  {
   "cell_type": "code",
   "execution_count": 1,
   "metadata": {
    "dotnet_interactive": {
     "language": "csharp"
    },
    "polyglot_notebook": {
     "kernelName": "csharp"
    },
    "vscode": {
     "languageId": "csharp"
    }
   },
   "outputs": [
    {
     "data": {
      "text/html": [
       "\r\n",
       "<div>\r\n",
       "    <div id='dotnet-interactive-this-cell-17504.Microsoft.DotNet.Interactive.Http.HttpPort' style='display: none'>\r\n",
       "        The below script needs to be able to find the current output cell; this is an easy method to get it.\r\n",
       "    </div>\r\n",
       "    <script type='text/javascript'>\r\n",
       "async function probeAddresses(probingAddresses) {\r\n",
       "    function timeout(ms, promise) {\r\n",
       "        return new Promise(function (resolve, reject) {\r\n",
       "            setTimeout(function () {\r\n",
       "                reject(new Error('timeout'))\r\n",
       "            }, ms)\r\n",
       "            promise.then(resolve, reject)\r\n",
       "        })\r\n",
       "    }\r\n",
       "\r\n",
       "    if (Array.isArray(probingAddresses)) {\r\n",
       "        for (let i = 0; i < probingAddresses.length; i++) {\r\n",
       "\r\n",
       "            let rootUrl = probingAddresses[i];\r\n",
       "\r\n",
       "            if (!rootUrl.endsWith('/')) {\r\n",
       "                rootUrl = `${rootUrl}/`;\r\n",
       "            }\r\n",
       "\r\n",
       "            try {\r\n",
       "                let response = await timeout(1000, fetch(`${rootUrl}discovery`, {\r\n",
       "                    method: 'POST',\r\n",
       "                    cache: 'no-cache',\r\n",
       "                    mode: 'cors',\r\n",
       "                    timeout: 1000,\r\n",
       "                    headers: {\r\n",
       "                        'Content-Type': 'text/plain'\r\n",
       "                    },\r\n",
       "                    body: probingAddresses[i]\r\n",
       "                }));\r\n",
       "\r\n",
       "                if (response.status == 200) {\r\n",
       "                    return rootUrl;\r\n",
       "                }\r\n",
       "            }\r\n",
       "            catch (e) { }\r\n",
       "        }\r\n",
       "    }\r\n",
       "}\r\n",
       "\r\n",
       "function loadDotnetInteractiveApi() {\r\n",
       "    probeAddresses([\"http://192.168.14.11:2049/\", \"http://127.0.0.1:2049/\"])\r\n",
       "        .then((root) => {\r\n",
       "        // use probing to find host url and api resources\r\n",
       "        // load interactive helpers and language services\r\n",
       "        let dotnetInteractiveRequire = require.config({\r\n",
       "        context: '17504.Microsoft.DotNet.Interactive.Http.HttpPort',\r\n",
       "                paths:\r\n",
       "            {\r\n",
       "                'dotnet-interactive': `${root}resources`\r\n",
       "                }\r\n",
       "        }) || require;\r\n",
       "\r\n",
       "            window.dotnetInteractiveRequire = dotnetInteractiveRequire;\r\n",
       "\r\n",
       "            window.configureRequireFromExtension = function(extensionName, extensionCacheBuster) {\r\n",
       "                let paths = {};\r\n",
       "                paths[extensionName] = `${root}extensions/${extensionName}/resources/`;\r\n",
       "                \r\n",
       "                let internalRequire = require.config({\r\n",
       "                    context: extensionCacheBuster,\r\n",
       "                    paths: paths,\r\n",
       "                    urlArgs: `cacheBuster=${extensionCacheBuster}`\r\n",
       "                    }) || require;\r\n",
       "\r\n",
       "                return internalRequire\r\n",
       "            };\r\n",
       "        \r\n",
       "            dotnetInteractiveRequire([\r\n",
       "                    'dotnet-interactive/dotnet-interactive'\r\n",
       "                ],\r\n",
       "                function (dotnet) {\r\n",
       "                    dotnet.init(window);\r\n",
       "                },\r\n",
       "                function (error) {\r\n",
       "                    console.log(error);\r\n",
       "                }\r\n",
       "            );\r\n",
       "        })\r\n",
       "        .catch(error => {console.log(error);});\r\n",
       "    }\r\n",
       "\r\n",
       "// ensure `require` is available globally\r\n",
       "if ((typeof(require) !==  typeof(Function)) || (typeof(require.config) !== typeof(Function))) {\r\n",
       "    let require_script = document.createElement('script');\r\n",
       "    require_script.setAttribute('src', 'https://cdnjs.cloudflare.com/ajax/libs/require.js/2.3.6/require.min.js');\r\n",
       "    require_script.setAttribute('type', 'text/javascript');\r\n",
       "    \r\n",
       "    \r\n",
       "    require_script.onload = function() {\r\n",
       "        loadDotnetInteractiveApi();\r\n",
       "    };\r\n",
       "\r\n",
       "    document.getElementsByTagName('head')[0].appendChild(require_script);\r\n",
       "}\r\n",
       "else {\r\n",
       "    loadDotnetInteractiveApi();\r\n",
       "}\r\n",
       "\r\n",
       "    </script>\r\n",
       "</div>"
      ]
     },
     "metadata": {},
     "output_type": "display_data"
    },
    {
     "name": "stdout",
     "output_type": "stream",
     "text": [
      "Model of car is ''\n",
      "Color of car is ''\n"
     ]
    }
   ],
   "source": [
    "public class Car \n",
    "{\n",
    "    public string Model {get; set;}  // ค่าเริ่มต้นของ string คือ ???\n",
    "    public string Color {get; set;}\n",
    "    // default constructor\n",
    "}\n",
    "\n",
    "Car car = new Car();\n",
    "Console.WriteLine($\"Model of car is '{car.Model}'\");\n",
    "Console.WriteLine($\"Color of car is '{car.Color}'\");"
   ]
  },
  {
   "cell_type": "markdown",
   "metadata": {},
   "source": [
    "### 2. ตัวอย่าง คลาสที่มี property และ parameterless constructor"
   ]
  },
  {
   "cell_type": "markdown",
   "metadata": {},
   "source": [
    "ในคลาสที่มี constructor ที่เขียนเอง เราจะสามารถกำหนดค่าเริ่มต้นให้ field/property ต่างๆ ได้ \n",
    "\n",
    "ค่าที่เก็บใน field/property  จะถูกกำหนดค่าเริ่มต้นให้โดย programmer\n"
   ]
  },
  {
   "cell_type": "code",
   "execution_count": 2,
   "metadata": {
    "vscode": {
     "languageId": "csharp"
    }
   },
   "outputs": [
    {
     "name": "stdout",
     "output_type": "stream",
     "text": [
      "Model of car is 'Unknow'\n",
      "Color of car is 'Unknow'\n"
     ]
    }
   ],
   "source": [
    "public class Car \n",
    "{\n",
    "    public string Model {get; set;}  // ค่าเริ่มต้นของ string คือ ???\n",
    "    public string Color {get; set;}\n",
    "    // parameterless constructor\n",
    "    public Car()\n",
    "    {\n",
    "        Model = \"Unknow\";\n",
    "        Color = \"Unknow\";\n",
    "    }\n",
    "}\n",
    "\n",
    "Car car = new Car();\n",
    "Console.WriteLine($\"Model of car is '{car.Model}'\");\n",
    "Console.WriteLine($\"Color of car is '{car.Color}'\");"
   ]
  },
  {
   "cell_type": "markdown",
   "metadata": {},
   "source": [
    "### 3. ตัวอย่าง คลาสที่มี property และ parameterless constructor"
   ]
  },
  {
   "cell_type": "code",
   "execution_count": 3,
   "metadata": {
    "vscode": {
     "languageId": "csharp"
    }
   },
   "outputs": [
    {
     "name": "stdout",
     "output_type": "stream",
     "text": [
      "Default\n",
      "Default name = Unknow\n",
      "Default age = 0\n",
      "After\n",
      "Default name = Sriracha\n",
      "Default age = 30\n"
     ]
    }
   ],
   "source": [
    "public class Person \n",
    "{\n",
    "    private string name;\n",
    "    private int age;\n",
    "\n",
    "    public string Name\n",
    "    {\n",
    "        get { return name; }\n",
    "        set { name = value; }\n",
    "    }\n",
    "\n",
    "    public int Age\n",
    "    {\n",
    "        get { return age; }\n",
    "        set { age = value; }\n",
    "    } \n",
    "\n",
    "\n",
    "    // parameterless constructor\n",
    "    public Person()\n",
    "    {\n",
    "        name = \"Unknow\";\n",
    "        age = 0;\n",
    "    }\n",
    "}\n",
    "\n",
    "Person p = new Person();\n",
    "Console.WriteLine(\"Default\");\n",
    "Console.WriteLine($\"Default name = {p.Name}\");\n",
    "Console.WriteLine($\"Default age = {p.Age}\");\n",
    "\n",
    "p.Age = 30;\n",
    "p.Name = \"Sriracha\";\n",
    "\n",
    "Console.WriteLine(\"After\");\n",
    "Console.WriteLine($\"Default name = {p.Name}\");\n",
    "Console.WriteLine($\"Default age = {p.Age}\");\n"
   ]
  }
 ],
 "metadata": {
  "kernelspec": {
   "display_name": ".NET (C#)",
   "language": "C#",
   "name": ".net-csharp"
  },
  "language_info": {
   "file_extension": ".cs",
   "mimetype": "text/x-csharp",
   "name": "C#",
   "pygments_lexer": "csharp",
   "version": "12.0"
  },
  "polyglot_notebook": {
   "kernelInfo": {
    "defaultKernelName": "csharp",
    "items": [
     {
      "aliases": [],
      "languageName": "csharp",
      "name": "csharp"
     }
    ]
   }
  }
 },
 "nbformat": 4,
 "nbformat_minor": 2
}
