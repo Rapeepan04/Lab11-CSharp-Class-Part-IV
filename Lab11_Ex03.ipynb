{
 "cells": [
  {
   "cell_type": "markdown",
   "metadata": {
    "dotnet_interactive": {
     "language": "csharp"
    },
    "polyglot_notebook": {
     "kernelName": "csharp"
    }
   },
   "source": [
    "## Lab 11 Constructor"
   ]
  },
  {
   "cell_type": "markdown",
   "metadata": {},
   "source": [
    "## Ex03 Static Constructor"
   ]
  },
  {
   "cell_type": "markdown",
   "metadata": {},
   "source": [
    "- คอนสตรัคเตอร์แบบสแตติกคือเมธอดพิเศษใน C# ที่เริ่มต้นสมาชิกแบบสแตติกของคลาสหรือสตรัคต์  \n",
    "- จะถูกดำเนินการโดยอัตโนมัติ เพียงครั้งเดียว เมื่อมีการเข้าถึงคลาสเป็นครั้งแรก หรือเมื่อมีการสร้างอินสแตนซ์ของคลาส  \n",
    "- เราไม่สามารถเรียกมันได้โดยตรง"
   ]
  },
  {
   "cell_type": "markdown",
   "metadata": {},
   "source": [
    "### ลักษณะสำคัญของ static constructor"
   ]
  },
  {
   "cell_type": "markdown",
   "metadata": {},
   "source": [
    "__1. มีได้เพียงหนึ่งเดียว__\n",
    "- Class หรือ struct แต่ละตัวสามารถมี static constructor ได้เพียงหนึ่งเดียวเท่านั้น\n",
    "\n",
    "__2. ไม่มี access modifier__\n",
    "- Static constructor จะไม่มี access modifier (เช่น public, private, protected) เนื่องจากถูกเรียกใช้โดยอัตโนมัติโดย CLR (Common Language Runtime)\n",
    "\n",
    "__3. ชื่อเดียวกับชื่อ class__\n",
    "- Static constructor จะมีชื่อเดียวกับชื่อ class หรือ struct\n",
    "\n",
    "__4. ไม่มี parameter__\n",
    "- Static constructor จะไม่มี parameter ใดๆ\n",
    "\n",
    "__5. ถูกเรียกใช้ก่อน instance constructor__\n",
    "- Static constructor จะถูกเรียกใช้ก่อน instance constructor ตัวแรกของ class หรือ struct นั้นๆ หรือก่อนที่จะมีการอ้างอิงถึงสมาชิก static ใดๆ ของ class หรือ struct นั้นๆ เป็นครั้งแรก\n",
    "\n",
    "__6. เรียกใช้เพียงครั้งเดียว__\n",
    "- Static constructor จะถูกเรียกใช้เพียงครั้งเดียวต่อ class loader ในแต่ละ application domain\n",
    "\n",
    "__7. ใช้สำหรับ initialization static members__\n",
    "- Static constructor มักใช้สำหรับ initialization static fields, constants หรือการเรียกใช้ method ที่จำเป็นสำหรับการตั้งค่าเริ่มต้นของ class หรือ struct"
   ]
  },
  {
   "cell_type": "markdown",
   "metadata": {},
   "source": [
    "#### การทดลองที่ 1. ลำดับการเรียก constructor "
   ]
  },
  {
   "cell_type": "markdown",
   "metadata": {},
   "source": [
    "1.1.1 สร้างคลาสที่มี  static และ instance constructor"
   ]
  },
  {
   "cell_type": "code",
   "execution_count": 1,
   "metadata": {
    "vscode": {
     "languageId": "csharp"
    }
   },
   "outputs": [
    {
     "data": {
      "text/html": [
       "\r\n",
       "<div>\r\n",
       "    <div id='dotnet-interactive-this-cell-11740.Microsoft.DotNet.Interactive.Http.HttpPort' style='display: none'>\r\n",
       "        The below script needs to be able to find the current output cell; this is an easy method to get it.\r\n",
       "    </div>\r\n",
       "    <script type='text/javascript'>\r\n",
       "async function probeAddresses(probingAddresses) {\r\n",
       "    function timeout(ms, promise) {\r\n",
       "        return new Promise(function (resolve, reject) {\r\n",
       "            setTimeout(function () {\r\n",
       "                reject(new Error('timeout'))\r\n",
       "            }, ms)\r\n",
       "            promise.then(resolve, reject)\r\n",
       "        })\r\n",
       "    }\r\n",
       "\r\n",
       "    if (Array.isArray(probingAddresses)) {\r\n",
       "        for (let i = 0; i < probingAddresses.length; i++) {\r\n",
       "\r\n",
       "            let rootUrl = probingAddresses[i];\r\n",
       "\r\n",
       "            if (!rootUrl.endsWith('/')) {\r\n",
       "                rootUrl = `${rootUrl}/`;\r\n",
       "            }\r\n",
       "\r\n",
       "            try {\r\n",
       "                let response = await timeout(1000, fetch(`${rootUrl}discovery`, {\r\n",
       "                    method: 'POST',\r\n",
       "                    cache: 'no-cache',\r\n",
       "                    mode: 'cors',\r\n",
       "                    timeout: 1000,\r\n",
       "                    headers: {\r\n",
       "                        'Content-Type': 'text/plain'\r\n",
       "                    },\r\n",
       "                    body: probingAddresses[i]\r\n",
       "                }));\r\n",
       "\r\n",
       "                if (response.status == 200) {\r\n",
       "                    return rootUrl;\r\n",
       "                }\r\n",
       "            }\r\n",
       "            catch (e) { }\r\n",
       "        }\r\n",
       "    }\r\n",
       "}\r\n",
       "\r\n",
       "function loadDotnetInteractiveApi() {\r\n",
       "    probeAddresses([\"http://192.168.14.11:2050/\", \"http://127.0.0.1:2050/\"])\r\n",
       "        .then((root) => {\r\n",
       "        // use probing to find host url and api resources\r\n",
       "        // load interactive helpers and language services\r\n",
       "        let dotnetInteractiveRequire = require.config({\r\n",
       "        context: '11740.Microsoft.DotNet.Interactive.Http.HttpPort',\r\n",
       "                paths:\r\n",
       "            {\r\n",
       "                'dotnet-interactive': `${root}resources`\r\n",
       "                }\r\n",
       "        }) || require;\r\n",
       "\r\n",
       "            window.dotnetInteractiveRequire = dotnetInteractiveRequire;\r\n",
       "\r\n",
       "            window.configureRequireFromExtension = function(extensionName, extensionCacheBuster) {\r\n",
       "                let paths = {};\r\n",
       "                paths[extensionName] = `${root}extensions/${extensionName}/resources/`;\r\n",
       "                \r\n",
       "                let internalRequire = require.config({\r\n",
       "                    context: extensionCacheBuster,\r\n",
       "                    paths: paths,\r\n",
       "                    urlArgs: `cacheBuster=${extensionCacheBuster}`\r\n",
       "                    }) || require;\r\n",
       "\r\n",
       "                return internalRequire\r\n",
       "            };\r\n",
       "        \r\n",
       "            dotnetInteractiveRequire([\r\n",
       "                    'dotnet-interactive/dotnet-interactive'\r\n",
       "                ],\r\n",
       "                function (dotnet) {\r\n",
       "                    dotnet.init(window);\r\n",
       "                },\r\n",
       "                function (error) {\r\n",
       "                    console.log(error);\r\n",
       "                }\r\n",
       "            );\r\n",
       "        })\r\n",
       "        .catch(error => {console.log(error);});\r\n",
       "    }\r\n",
       "\r\n",
       "// ensure `require` is available globally\r\n",
       "if ((typeof(require) !==  typeof(Function)) || (typeof(require.config) !== typeof(Function))) {\r\n",
       "    let require_script = document.createElement('script');\r\n",
       "    require_script.setAttribute('src', 'https://cdnjs.cloudflare.com/ajax/libs/require.js/2.3.6/require.min.js');\r\n",
       "    require_script.setAttribute('type', 'text/javascript');\r\n",
       "    \r\n",
       "    \r\n",
       "    require_script.onload = function() {\r\n",
       "        loadDotnetInteractiveApi();\r\n",
       "    };\r\n",
       "\r\n",
       "    document.getElementsByTagName('head')[0].appendChild(require_script);\r\n",
       "}\r\n",
       "else {\r\n",
       "    loadDotnetInteractiveApi();\r\n",
       "}\r\n",
       "\r\n",
       "    </script>\r\n",
       "</div>"
      ]
     },
     "metadata": {},
     "output_type": "display_data"
    },
    {
     "name": "stderr",
     "output_type": "stream",
     "text": [
      "\n",
      "(3,23): warning CS0649: Field 'MyClass.MyStaticField' is never assigned to, and will always have its default value 0\n",
      "\n"
     ]
    }
   ],
   "source": [
    "public class MyClass\n",
    "{\n",
    "    public static int MyStaticField;\n",
    "\n",
    "    static MyClass() // Static constructor\n",
    "    {\n",
    "        Console.WriteLine(\"Static constructor in operation\");\n",
    "    }\n",
    "\n",
    "    public MyClass() // Instance constructor\n",
    "    {\n",
    "        Console.WriteLine(\"Instance constructor in operation\");\n",
    "    }\n",
    "}"
   ]
  },
  {
   "cell_type": "markdown",
   "metadata": {},
   "source": [
    "1.1.2 สร้างวัตถุจากคลาส เพื่อดูว่า constructor ใดทำงานบ้าง"
   ]
  },
  {
   "cell_type": "code",
   "execution_count": 2,
   "metadata": {
    "vscode": {
     "languageId": "csharp"
    }
   },
   "outputs": [
    {
     "name": "stdout",
     "output_type": "stream",
     "text": [
      "Static constructor in operation\n",
      "Instance constructor in operation\n"
     ]
    }
   ],
   "source": [
    "MyClass myObject = new();"
   ]
  },
  {
   "cell_type": "markdown",
   "metadata": {},
   "source": [
    "#### การทดลองที่ 2. ลำดับการเรียก constructor "
   ]
  },
  {
   "cell_type": "markdown",
   "metadata": {},
   "source": [
    "1.2.1 สร้างคลาสที่มี  static และ instance constructor"
   ]
  },
  {
   "cell_type": "code",
   "execution_count": 4,
   "metadata": {
    "vscode": {
     "languageId": "csharp"
    }
   },
   "outputs": [],
   "source": [
    "public class MyClass\n",
    "{\n",
    "    public static int MyStaticField;\n",
    "\n",
    "    static MyClass() // Static constructor\n",
    "    {\n",
    "        MyStaticField = 30;\n",
    "        Console.WriteLine(\"Static constructor in operation\");\n",
    "    }\n",
    "\n",
    "    public MyClass(int intParam) // Instance constructor\n",
    "    {\n",
    "        Console.WriteLine($\"Global value, MyStaticField = {MyStaticField}\");\n",
    "        Console.WriteLine($\"Parameterized constructor in operation, intParem = {intParam}\");\n",
    "    }\n",
    "}"
   ]
  },
  {
   "cell_type": "markdown",
   "metadata": {},
   "source": [
    "1.2.2 สร้างวัตถุจากคลาส เพื่อดูว่า constructor ใดทำงานบ้าง"
   ]
  },
  {
   "cell_type": "code",
   "execution_count": 5,
   "metadata": {
    "vscode": {
     "languageId": "csharp"
    }
   },
   "outputs": [
    {
     "name": "stdout",
     "output_type": "stream",
     "text": [
      "Static constructor in operation\n",
      "Global value, MyStaticField = 30\n",
      "Parameterized constructor in operation, intParem = 10\n"
     ]
    }
   ],
   "source": [
    "MyClass myObject = new(10);"
   ]
  },
  {
   "cell_type": "markdown",
   "metadata": {},
   "source": [
    "1.2.3 สร้างวัตถุจากคลาส เพื่อดูว่า constructor ใดทำงานบ้าง โดยไม่ต้องใส่ parameter ใดๆ ในขณะสร้างวัตถุ"
   ]
  },
  {
   "cell_type": "code",
   "execution_count": 6,
   "metadata": {
    "vscode": {
     "languageId": "csharp"
    }
   },
   "outputs": [
    {
     "name": "stderr",
     "output_type": "stream",
     "text": [
      "\n",
      "(1,20): error CS7036: There is no argument given that corresponds to the required parameter 'intParam' of 'MyClass.MyClass(int)'\n",
      "\n"
     ]
    },
    {
     "ename": "Error",
     "evalue": "compilation error",
     "output_type": "error",
     "traceback": []
    }
   ],
   "source": [
    "MyClass myObject = new();"
   ]
  },
  {
   "cell_type": "markdown",
   "metadata": {},
   "source": [
    "#### การทดลองที่ 3. ควบคุมการสร้างวัตถุจากคลาส ให้สามารถสร้างไดัเพียงหนึ่งเดียวเท่านั้น"
   ]
  },
  {
   "cell_type": "markdown",
   "metadata": {},
   "source": [
    "Singleton Pattern เป็นรูปแบบการออกแบบซอฟต์แวร์ (software design pattern) ที่จำกัดการสร้างอ็อบเจ็กต์ของคลาสหนึ่งๆ ให้มีเพียงอินสแตนซ์เดียวเท่านั้น และมีจุดการเข้าถึงส่วนกลางเพื่อเข้าถึงอินสแตนซ์นั้น\n",
    "\n",
    "การใช้งาน Singleton Pattern มักจะใช้กับทรัพยากรที่มีเพียงหนึ่งเดียวใน application domain หรือ system domain เช่น database connection, serial port connection, network connection เป็นต้น เพราะถ้าปล่อยให้วัตถุทุกตัวสามารถใช้ทรัพยากรได้โดยอิสระ ก็จะเกิดความผิดพลาดร้ายแรงขึ้นได้ "
   ]
  },
  {
   "cell_type": "markdown",
   "metadata": {},
   "source": [
    "ก่อนจะทดลอง singleton pattern ให้พิจารณาการเขียนโปรแกรมโดยใช้ static field แบบปกติก่อน\n"
   ]
  },
  {
   "cell_type": "code",
   "execution_count": 7,
   "metadata": {
    "vscode": {
     "languageId": "csharp"
    }
   },
   "outputs": [
    {
     "name": "stdout",
     "output_type": "stream",
     "text": [
      "Object count = 1\n",
      "Object count = 2\n",
      "Object count = 3\n"
     ]
    }
   ],
   "source": [
    "public class StaticFieldExample\n",
    "{\n",
    "    static int count = 0;   // field\n",
    "    public int Count        // property (Read-only)\n",
    "    {\n",
    "        get{ return count;}\n",
    "\n",
    "    }\n",
    "    public  StaticFieldExample()  // parameterless constructor\n",
    "    {\n",
    "        count++;\n",
    "    }\n",
    "}\n",
    "\n",
    "\n",
    "StaticFieldExample sfe = new ();\n",
    "Console.WriteLine($\"Object count = {sfe.Count}\"); \n",
    "StaticFieldExample sfe2 = new ();\n",
    "Console.WriteLine($\"Object count = {sfe2.Count}\"); \n",
    "StaticFieldExample sfe3 = new ();\n",
    "Console.WriteLine($\"Object count = {sfe3.Count}\"); \n"
   ]
  },
  {
   "cell_type": "markdown",
   "metadata": {},
   "source": [
    "เขียนโปรแกรมแบบ siingleton pattern"
   ]
  },
  {
   "cell_type": "code",
   "execution_count": 8,
   "metadata": {
    "vscode": {
     "languageId": "csharp"
    }
   },
   "outputs": [
    {
     "name": "stdout",
     "output_type": "stream",
     "text": [
      "object count = 1\n",
      "object count = 1\n",
      "object count = 1\n"
     ]
    }
   ],
   "source": [
    "public sealed class Singleton\n",
    "{\n",
    "    static int count = 0;\n",
    "    private static readonly Singleton instance = new Singleton();\n",
    "\n",
    "    private Singleton() { }\n",
    "\n",
    "    static Singleton() { count ++;} // static constructor เพื่อให้ initialization ทำงาน\n",
    "\n",
    "    public static Singleton Instance { get { return instance; } }\n",
    "    public int Count\n",
    "    {\n",
    "        get { return count;}\n",
    "    }\n",
    "\n",
    "}\n",
    "\n",
    "Singleton singleton = Singleton.Instance;\n",
    "Console.WriteLine($\"object count = {singleton.Count}\");\n",
    "\n",
    "Singleton singleton2 = Singleton.Instance;\n",
    "Console.WriteLine($\"object count = {singleton2.Count}\");\n",
    "\n",
    "Singleton singleton3 = Singleton.Instance;\n",
    "Console.WriteLine($\"object count = {singleton3.Count}\");\n"
   ]
  }
 ],
 "metadata": {
  "kernelspec": {
   "display_name": ".NET (C#)",
   "language": "C#",
   "name": ".net-csharp"
  },
  "language_info": {
   "file_extension": ".cs",
   "mimetype": "text/x-csharp",
   "name": "C#",
   "pygments_lexer": "csharp",
   "version": "12.0"
  },
  "polyglot_notebook": {
   "kernelInfo": {
    "defaultKernelName": "csharp",
    "items": [
     {
      "aliases": [],
      "languageName": "csharp",
      "name": "csharp"
     }
    ]
   }
  }
 },
 "nbformat": 4,
 "nbformat_minor": 2
}
